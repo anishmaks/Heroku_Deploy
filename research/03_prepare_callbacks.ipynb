{
 "cells": [
  {
   "cell_type": "code",
   "execution_count": 1,
   "metadata": {},
   "outputs": [
    {
     "data": {
      "text/plain": [
       "'c:\\\\Users\\\\Sasu4\\\\SHIP_Classification_using_Resnet\\\\research'"
      ]
     },
     "execution_count": 1,
     "metadata": {},
     "output_type": "execute_result"
    }
   ],
   "source": [
    "import os\n",
    "%pwd"
   ]
  },
  {
   "cell_type": "code",
   "execution_count": 2,
   "metadata": {},
   "outputs": [
    {
     "data": {
      "text/plain": [
       "'c:\\\\Users\\\\Sasu4\\\\SHIP_Classification_using_Resnet'"
      ]
     },
     "execution_count": 2,
     "metadata": {},
     "output_type": "execute_result"
    }
   ],
   "source": [
    "os.chdir(\"../\")\n",
    "%pwd"
   ]
  },
  {
   "cell_type": "code",
   "execution_count": 88,
   "metadata": {},
   "outputs": [],
   "source": [
    "from dataclasses import dataclass\n",
    "from pathlib import Path\n",
    "\n",
    "\n",
    "@dataclass(frozen=True)\n",
    "class PrepareCallbacksConfig:\n",
    "    root_dir: Path\n",
    "    tensorboard_root_log_dir: Path\n",
    "    checkpoint_model_filepath: Path\n",
    "    epoch:int\n",
    "    \n",
    "@dataclass(frozen=True)\n",
    "class PrepareBaseModelConfig:\n",
    "    root_dir: Path\n",
    "    base_model_path: Path\n",
    "    updated_base_model_path: Path\n",
    "    params_image_size: list\n",
    "    params_learning_rate: float\n",
    "    params_include_top: bool\n",
    "    params_weights: str\n",
    "    params_classes: int\n",
    "    freeze_all: bool\n",
    "    freeze_till: int\n",
    "    "
   ]
  },
  {
   "cell_type": "code",
   "execution_count": 68,
   "metadata": {},
   "outputs": [],
   "source": [
    "from Ship_Classifier.constants import *\n",
    "from Ship_Classifier.utils.common import read_yaml,create_directories"
   ]
  },
  {
   "cell_type": "code",
   "execution_count": 94,
   "metadata": {},
   "outputs": [],
   "source": [
    "class PrepareBaseModel:\n",
    "  def __init__(self, config):\n",
    "        self.config = config\n",
    "        self.model=None\n",
    "        self.optimizer = None  # Initialize as needed\n",
    "        self.loss_fn = None  # Initialize as needed"
   ]
  },
  {
   "cell_type": "code",
   "execution_count": 95,
   "metadata": {},
   "outputs": [],
   "source": [
    "class ConfigurationManager:\n",
    "    def __init__(\n",
    "        self, \n",
    "        config_filepath = CONFIG_FILE_PATH,\n",
    "        params_filepath = PARAMS_FILE_PATH):\n",
    "        self.config = read_yaml(config_filepath)\n",
    "        self.params = read_yaml(params_filepath)\n",
    "        create_directories([self.config.artifacts_root])\n",
    "        \n",
    "    def get_prepare_base_model_config(self) -> PrepareBaseModelConfig:\n",
    "        config = self.config.prepare_base_model\n",
    "        params = self.params\n",
    "        \n",
    "        #create_directories([config.root_dir])\n",
    "\n",
    "        prepare_base_model_config = PrepareBaseModelConfig(\n",
    "            root_dir=Path(config.root_dir),\n",
    "            base_model_path=Path(config.base_model_path),\n",
    "            updated_base_model_path=Path(config.updated_base_model_path),\n",
    "            params_image_size=self.params.IMAGE_SIZE,\n",
    "            params_learning_rate=self.params.LEARNING_RATE,\n",
    "            params_include_top=self.params.INCLUDE_TOP,\n",
    "            params_weights=self.params.WEIGHTS,\n",
    "            params_classes=self.params.CLASSES,\n",
    "            freeze_all=config.get(\"freeze_all\", True),  # Default to True if not specified\n",
    "            freeze_till=config.get(\"freeze_till\", None)\n",
    "        )\n",
    "\n",
    "        return prepare_base_model_config\n",
    "    \n",
    "    def get_prepare_callback_config(self) -> PrepareCallbacksConfig:\n",
    "        config = self.config.prepare_callbacks\n",
    "        model_ckpt_dir = os.path.dirname(config.checkpoint_model_filepath)\n",
    "        create_directories([\n",
    "            Path(model_ckpt_dir),\n",
    "            Path(config.tensorboard_root_log_dir)\n",
    "        ])\n",
    "\n",
    "        prepare_callback_config = PrepareCallbacksConfig(\n",
    "            root_dir=Path(config.root_dir),\n",
    "            tensorboard_root_log_dir=Path(config.tensorboard_root_log_dir),\n",
    "            checkpoint_model_filepath=Path(config.checkpoint_model_filepath),\n",
    "            epoch=self.params.EPOCHS\n",
    "        )\n",
    "\n",
    "        return prepare_callback_config"
   ]
  },
  {
   "cell_type": "code",
   "execution_count": 71,
   "metadata": {},
   "outputs": [],
   "source": [
    "import os\n",
    "import urllib.request as request\n",
    "from zipfile import ZipFile\n",
    "import torch \n",
    "import time\n",
    "from torch.utils.tensorboard import SummaryWriter"
   ]
  },
  {
   "cell_type": "code",
   "execution_count": 96,
   "metadata": {},
   "outputs": [],
   "source": [
    "\n",
    "  \n",
    "class PrepareCallback:\n",
    "    def __init__(self, config: PrepareCallbacksConfig,model, optimizer, loss):\n",
    "        self.config = config\n",
    "        self.model = model\n",
    "        self.optimizer = optimizer\n",
    "        self.loss = loss\n",
    "   \n",
    "    @property\n",
    "    def _create_tb_callbacks(self):\n",
    "        timestamp = time.strftime(\"%Y-%m-%d-%H-%M-%S\")\n",
    "        tb_running_log_dir = os.path.join(\n",
    "            self.config.tensorboard_root_log_dir,\n",
    "            f\"tb_logs_at_{timestamp}\",\n",
    "        )\n",
    "        return torch.utils.tensorboard.SummaryWriter(log_dir=tb_running_log_dir)  # Adjust as necessary to return the TensorBoard logger\n",
    "\n",
    "    @property\n",
    "    def _create_ckpt_callbacks(self):\n",
    "       checkpoint_dir = self.config.checkpoint_model_filepath\n",
    "       checkpoint = torch.save({\n",
    "            'epoch': self.config.epoch,\n",
    "            'model_state_dict': self.model.state_dict(),\n",
    "            'optimizer_state_dict': self.optimizer.state_dict(),\n",
    "            'loss': self.loss\n",
    "       }, checkpoint_dir)\n",
    "       return checkpoint\n",
    "    \n",
    "    def get_tb_ckpt_callbacks(self):\n",
    "        tb_callback = self._create_tb_callbacks\n",
    "        ckpt_callback = self._create_ckpt_callbacks\n",
    "        return tb_callback, ckpt_callback"
   ]
  },
  {
   "cell_type": "code",
   "execution_count": 99,
   "metadata": {},
   "outputs": [
    {
     "name": "stdout",
     "output_type": "stream",
     "text": [
      "[2024-08-23 12:38:02,756: INFO: common: yaml file: config\\config.yaml loaded successfully]\n",
      "[2024-08-23 12:38:02,759: INFO: common: yaml file: params.yaml loaded successfully]\n",
      "[2024-08-23 12:38:02,762: INFO: common: created directory at: artifacts]\n"
     ]
    },
    {
     "ename": "Exception",
     "evalue": "An error occurred while preparing the model or callbacks: 'PrepareBaseModel' object has no attribute 'full_model'",
     "output_type": "error",
     "traceback": [
      "\u001b[1;31m---------------------------------------------------------------------------\u001b[0m",
      "\u001b[1;31mAttributeError\u001b[0m                            Traceback (most recent call last)",
      "Cell \u001b[1;32mIn[99], line 10\u001b[0m\n\u001b[0;32m      9\u001b[0m prepare_base_model \u001b[38;5;241m=\u001b[39m PrepareBaseModel(config\u001b[38;5;241m=\u001b[39mprepare_base_model_config)\n\u001b[1;32m---> 10\u001b[0m model \u001b[38;5;241m=\u001b[39m \u001b[43mprepare_base_model\u001b[49m\u001b[38;5;241;43m.\u001b[39;49m\u001b[43mget_model\u001b[49m\u001b[43m(\u001b[49m\u001b[43m)\u001b[49m\n\u001b[0;32m     11\u001b[0m optimizer \u001b[38;5;241m=\u001b[39m prepare_base_model\u001b[38;5;241m.\u001b[39mget_optimizer()\n",
      "File \u001b[1;32mc:\\users\\sasu4\\ship_classification_using_resnet\\src\\Ship_Classifier\\components\\prepare_base_model.py:102\u001b[0m, in \u001b[0;36mPrepareBaseModel.get_model\u001b[1;34m(self)\u001b[0m\n\u001b[0;32m    101\u001b[0m \u001b[38;5;28;01mdef\u001b[39;00m \u001b[38;5;21mget_model\u001b[39m(\u001b[38;5;28mself\u001b[39m):\n\u001b[1;32m--> 102\u001b[0m       \u001b[38;5;28;01mreturn\u001b[39;00m \u001b[38;5;28;43mself\u001b[39;49m\u001b[38;5;241;43m.\u001b[39;49m\u001b[43mfull_model\u001b[49m\n",
      "\u001b[1;31mAttributeError\u001b[0m: 'PrepareBaseModel' object has no attribute 'full_model'",
      "\nThe above exception was the direct cause of the following exception:\n",
      "\u001b[1;31mException\u001b[0m                                 Traceback (most recent call last)",
      "Cell \u001b[1;32mIn[99], line 25\u001b[0m\n\u001b[0;32m     22\u001b[0m     callback_list \u001b[38;5;241m=\u001b[39m prepare_callbacks\u001b[38;5;241m.\u001b[39mget_tb_ckpt_callbacks()\n\u001b[0;32m     24\u001b[0m \u001b[38;5;28;01mexcept\u001b[39;00m \u001b[38;5;167;01mException\u001b[39;00m \u001b[38;5;28;01mas\u001b[39;00m e:\n\u001b[1;32m---> 25\u001b[0m     \u001b[38;5;28;01mraise\u001b[39;00m \u001b[38;5;167;01mException\u001b[39;00m(\u001b[38;5;124mf\u001b[39m\u001b[38;5;124m\"\u001b[39m\u001b[38;5;124mAn error occurred while preparing the model or callbacks: \u001b[39m\u001b[38;5;132;01m{\u001b[39;00m\u001b[38;5;28mstr\u001b[39m(e)\u001b[38;5;132;01m}\u001b[39;00m\u001b[38;5;124m\"\u001b[39m) \u001b[38;5;28;01mfrom\u001b[39;00m \u001b[38;5;21;01me\u001b[39;00m\n",
      "\u001b[1;31mException\u001b[0m: An error occurred while preparing the model or callbacks: 'PrepareBaseModel' object has no attribute 'full_model'"
     ]
    }
   ],
   "source": [
    "from Ship_Classifier.components.prepare_base_model import PrepareBaseModel\n",
    "\n",
    "from Ship_Classifier.components.prepare_base_model import PrepareBaseModelConfig\n",
    "try:\n",
    "    config = ConfigurationManager()\n",
    "\n",
    "    #Prepare the base model configuration\n",
    "    prepare_base_model_config = config.get_prepare_base_model_config()\n",
    "    prepare_base_model = PrepareBaseModel(config=prepare_base_model_config)\n",
    "    model = prepare_base_model.get_model()\n",
    "    optimizer = prepare_base_model.get_optimizer()\n",
    "    loss = prepare_base_model.get_loss_fn()\n",
    "\n",
    "    # Prepare the callback configuration\n",
    "    prepare_callbacks_config = config.get_prepare_callback_config()\n",
    "    prepare_callbacks = PrepareCallback(\n",
    "        config=prepare_callbacks_config,\n",
    "        model=model,\n",
    "        optimizer=optimizer,\n",
    "        loss=loss_fn\n",
    "    )\n",
    "    callback_list = prepare_callbacks.get_tb_ckpt_callbacks()\n",
    "\n",
    "except Exception as e:\n",
    "    raise Exception(f\"An error occurred while preparing the model or callbacks: {str(e)}\") from e"
   ]
  }
 ],
 "metadata": {
  "kernelspec": {
   "display_name": "Python 3",
   "language": "python",
   "name": "python3"
  },
  "language_info": {
   "codemirror_mode": {
    "name": "ipython",
    "version": 3
   },
   "file_extension": ".py",
   "mimetype": "text/x-python",
   "name": "python",
   "nbconvert_exporter": "python",
   "pygments_lexer": "ipython3",
   "version": "3.12.4"
  }
 },
 "nbformat": 4,
 "nbformat_minor": 2
}
