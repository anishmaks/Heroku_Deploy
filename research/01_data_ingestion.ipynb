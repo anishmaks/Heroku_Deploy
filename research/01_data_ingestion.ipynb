{
 "cells": [
  {
   "cell_type": "code",
   "execution_count": 3,
   "metadata": {},
   "outputs": [],
   "source": [
    "import os"
   ]
  },
  {
   "cell_type": "code",
   "execution_count": 2,
   "metadata": {},
   "outputs": [
    {
     "data": {
      "text/plain": [
       "'c:\\\\Users\\\\Sasu4\\\\SHIP_Classification_using_Resnet\\\\research'"
      ]
     },
     "execution_count": 2,
     "metadata": {},
     "output_type": "execute_result"
    }
   ],
   "source": [
    "%pwd"
   ]
  },
  {
   "cell_type": "code",
   "execution_count": 4,
   "metadata": {},
   "outputs": [],
   "source": [
    "os.chdir(\"../\")"
   ]
  },
  {
   "cell_type": "code",
   "execution_count": 5,
   "metadata": {},
   "outputs": [
    {
     "data": {
      "text/plain": [
       "'c:\\\\Users\\\\Sasu4\\\\SHIP_Classification_using_Resnet'"
      ]
     },
     "execution_count": 5,
     "metadata": {},
     "output_type": "execute_result"
    }
   ],
   "source": [
    "%pwd"
   ]
  },
  {
   "cell_type": "code",
   "execution_count": 79,
   "metadata": {},
   "outputs": [],
   "source": [
    "from dataclasses import dataclass\n",
    "from pathlib import Path\n",
    "from typing import List\n",
    "\n",
    "@dataclass(frozen=True)\n",
    "class DataIngestionConfig:\n",
    "    root_dir :Path\n",
    "    source_URL:str\n",
    "    local_data_file:Path\n",
    "    unzip_dir :Path\n",
    "    class_dirs: List[str]"
   ]
  },
  {
   "cell_type": "code",
   "execution_count": 80,
   "metadata": {},
   "outputs": [],
   "source": [
    "from Ship_Classifier.constants import *\n",
    "from Ship_Classifier.utils.common  import read_yaml,create_directories"
   ]
  },
  {
   "cell_type": "code",
   "execution_count": 81,
   "metadata": {},
   "outputs": [
    {
     "name": "stdout",
     "output_type": "stream",
     "text": [
      "[2024-08-20 16:59:48,337: INFO: common: yaml file: config\\config.yaml loaded successfully]\n",
      "{'artifacts_root': 'artifacts', 'data_ingestion': {'root_dir': 'artifacts/data_ingestion', 'source_URL': 'https://github.com/anishmaks/SHIP_Classification_using_Resnet/raw/main/Images.zip', 'local_data_file': 'artifacts/data_ingestion/Images.zip', 'unzip_dir': 'artifacts/data_ingestion/extracted_data', 'class_dirs': ['artifacts/data_ingestion/extracted_data/Carrier', 'artifacts/data_ingestion/extracted_data/Cruise', 'artifacts/data_ingestion/extracted_data/Cargo', 'artifacts/data_ingestion/extracted_data/Military', 'artifacts/data_ingestion/extracted_data/Tanker']}}\n",
      "[2024-08-20 16:59:48,344: INFO: common: yaml file: config\\config.yaml loaded successfully]\n",
      "CONFIG_FILE_PATH: {'artifacts_root': 'artifacts', 'data_ingestion': {'root_dir': 'artifacts/data_ingestion', 'source_URL': 'https://github.com/anishmaks/SHIP_Classification_using_Resnet/raw/main/Images.zip', 'local_data_file': 'artifacts/data_ingestion/Images.zip', 'unzip_dir': 'artifacts/data_ingestion/extracted_data', 'class_dirs': ['artifacts/data_ingestion/extracted_data/Carrier', 'artifacts/data_ingestion/extracted_data/Cruise', 'artifacts/data_ingestion/extracted_data/Cargo', 'artifacts/data_ingestion/extracted_data/Military', 'artifacts/data_ingestion/extracted_data/Tanker']}}\n"
     ]
    }
   ],
   "source": [
    "\n",
    "#def __init__(self, config_filepath=CONFIG_FILE_PATH, params_filepath=PARAMS_FILE_PATH):\n",
    "print( read_yaml(CONFIG_FILE_PATH))\n",
    "print(f\"CONFIG_FILE_PATH: {read_yaml(CONFIG_FILE_PATH)}\")\n",
    "    \n"
   ]
  },
  {
   "cell_type": "code",
   "execution_count": 83,
   "metadata": {},
   "outputs": [],
   "source": [
    "class ConfigurationManager:\n",
    "    def __init__(self, config_filepath=CONFIG_FILE_PATH, params_filepath=PARAMS_FILE_PATH):\n",
    "        # Load configurations and parameters from YAML files\n",
    "        self.config = read_yaml(config_filepath)\n",
    "        self.params = read_yaml(params_filepath)\n",
    "         # Print the paths to check if they are correct\n",
    "        print(f\"CONFIG_FILE_PATH: {config_filepath}\")\n",
    "        print(f\"PARAMS_FILE_PATH: {params_filepath}\")\n",
    "\n",
    "        # Check if the config file exists\n",
    "        if not os.path.exists(config_filepath):\n",
    "            raise FileNotFoundError(f\"Config file not found at: {config_filepath}\")\n",
    "        if not os.path.exists(params_filepath):\n",
    "            raise FileNotFoundError(f\"Params file not found at: {params_filepath}\")\n",
    "        \n",
    "         # Load the YAML files\n",
    "        self.config = read_yaml(config_filepath)\n",
    "        self.params = read_yaml(params_filepath)\n",
    "\n",
    "        # Create the root directory for artifacts if it doesn't exist\n",
    "        create_directories([self.config['artifacts_root']])\n",
    "\n",
    "    def get_data_ingestion_config(self) -> DataIngestionConfig:\n",
    "        # Extract the data ingestion configuration from the loaded config\n",
    "        data_ingestion_config = self.config['data_ingestion']\n",
    "        \n",
    "        \n",
    "        # Check if 'class_dirs' is present\n",
    "        if 'class_dirs' not in data_ingestion_config:\n",
    "            raise KeyError(\"Key 'class_dirs' not found in the configuration\")\n",
    "\n",
    "        # Create the root directory for data ingestion if it doesn't exist\n",
    "        create_directories([data_ingestion_config['root_dir']])\n",
    "\n",
    "        # Initialize and return a DataIngestionConfig object with the necessary paths and URLs\n",
    "        return DataIngestionConfig(\n",
    "            root_dir=data_ingestion_config['root_dir'],\n",
    "            source_URL=data_ingestion_config['source_URL'],\n",
    "            local_data_file=data_ingestion_config['local_data_file'],\n",
    "            unzip_dir=data_ingestion_config['unzip_dir'],\n",
    "            class_dirs=data_ingestion_config['class_dirs'] # Renamed to match \"extract_dir\"\n",
    "        )"
   ]
  },
  {
   "cell_type": "code",
   "execution_count": 84,
   "metadata": {},
   "outputs": [],
   "source": [
    "import os\n",
    "import urllib.request as request\n",
    "import zipfile\n",
    "from Ship_Classifier import logger\n",
    "from Ship_Classifier.utils.common import get_size"
   ]
  },
  {
   "cell_type": "code",
   "execution_count": 87,
   "metadata": {},
   "outputs": [],
   "source": [
    "import requests\n",
    "class DataIngestion:\n",
    "    def __init__(self, config: DataIngestionConfig):\n",
    "        self.config = config\n",
    "\n",
    "\n",
    "    \n",
    "    def download_file(self):\n",
    "       if not os.path.exists(self.config.local_data_file):\n",
    "            try:\n",
    "                response = requests.get(self.config.source_URL)  # Corrected to 'requests.get'\n",
    "                response.raise_for_status()  # Raise an HTTPError for bad responses\n",
    "                with open(self.config.local_data_file, 'wb') as f:\n",
    "                    f.write(response.content)\n",
    "                logger.info(f\"{self.config.local_data_file} downloaded successfully!\")\n",
    "                \n",
    "            except requests.exceptions.RequestException as e:  # Corrected to 'requests.exceptions.RequestException'\n",
    "                logger.error(f\"Failed to download the file. Error: {str(e)}\")\n",
    "                raise e\n",
    "       else:\n",
    "            file_size = self.get_size(Path(self.config.local_data_file))\n",
    "            logger.info(f\"File already exists with size: {file_size}\") \n",
    "\n",
    "    def extract_zip_file(self):\n",
    "        # Ensure the file exists before attempting to extract\n",
    "        if os.path.exists(self.config.local_data_file):\n",
    "            with zipfile.ZipFile(self.config.local_data_file, 'r') as zip_ref:\n",
    "                zip_ref.extractall(self.config.unzip_dir)  # Changed to 'unzip_dir'\n",
    "                logger.info(f\"Extraction completed successfully into {self.config.unzip_dir}\")\n",
    "            \n",
    "            # Verifying the folders\n",
    "            expected_folders = ['Cargo', 'Carrier', 'Cruise', 'Tanker', 'Military']\n",
    "            for folder in expected_folders:\n",
    "                folder_path = Path(self.config.unzip_dir) / folder  # Changed to 'unzip_dir'\n",
    "                if folder_path.exists() and folder_path.is_dir():\n",
    "                    logger.info(f\"Folder '{folder}' exists.\")\n",
    "                else:\n",
    "                    logger.warning(f\"Folder '{folder}' is missing!\")\n",
    "        else:\n",
    "            logger.error(\"Zip file does not exist. Please check the download step.\")\n",
    "\n",
    "    def get_size(self, path):\n",
    "        # Utility method to get the size of a file in bytes\n",
    "        return os.path.getsize(path)"
   ]
  },
  {
   "cell_type": "code",
   "execution_count": 88,
   "metadata": {},
   "outputs": [
    {
     "name": "stdout",
     "output_type": "stream",
     "text": [
      "[2024-08-20 17:08:34,077: INFO: 2771052960: Initializing ConfigurationManager]\n",
      "[2024-08-20 17:08:34,082: INFO: common: yaml file: config\\config.yaml loaded successfully]\n",
      "[2024-08-20 17:08:34,087: INFO: common: yaml file: params.yaml loaded successfully]\n",
      "CONFIG_FILE_PATH: config\\config.yaml\n",
      "PARAMS_FILE_PATH: params.yaml\n",
      "[2024-08-20 17:08:34,094: INFO: common: yaml file: config\\config.yaml loaded successfully]\n",
      "[2024-08-20 17:08:34,098: INFO: common: yaml file: params.yaml loaded successfully]\n",
      "[2024-08-20 17:08:34,102: INFO: common: created directory at: artifacts]\n",
      "[2024-08-20 17:08:34,103: INFO: 2771052960: Retrieving data ingestion configuration]\n",
      "[2024-08-20 17:08:34,106: INFO: common: created directory at: artifacts/data_ingestion]\n",
      "[2024-08-20 17:08:34,108: INFO: 2771052960: Initializing DataIngestion]\n",
      "[2024-08-20 17:08:34,109: INFO: 2771052960: Downloading file]\n",
      "[2024-08-20 17:08:38,443: INFO: 3862538793: artifacts/data_ingestion/Images.zip downloaded successfully!]\n",
      "[2024-08-20 17:08:38,486: INFO: 2771052960: Extracting zip file]\n",
      "[2024-08-20 17:08:39,308: INFO: 3862538793: Extraction completed successfully into artifacts/data_ingestion/extracted_data]\n",
      "[2024-08-20 17:08:39,311: WARNING: 3862538793: Folder 'Cargo' is missing!]\n",
      "[2024-08-20 17:08:39,312: WARNING: 3862538793: Folder 'Carrier' is missing!]\n",
      "[2024-08-20 17:08:39,314: WARNING: 3862538793: Folder 'Cruise' is missing!]\n",
      "[2024-08-20 17:08:39,316: WARNING: 3862538793: Folder 'Tanker' is missing!]\n",
      "[2024-08-20 17:08:39,317: WARNING: 3862538793: Folder 'Military' is missing!]\n"
     ]
    }
   ],
   "source": [
    "# Pipeline\n",
    "\n",
    "import logging\n",
    "\n",
    "logger = logging.getLogger(__name__)\n",
    "try:\n",
    "    # Initialize the configuration manager\n",
    "    logger.info(\"Initializing ConfigurationManager\")\n",
    "    config = ConfigurationManager()\n",
    "    \n",
    "    # Retrieve the data ingestion configuration\n",
    "    # Retrieve the data ingestion configuration\n",
    "    logger.info(\"Retrieving data ingestion configuration\")\n",
    "    data_ingestion_config = config.get_data_ingestion_config()\n",
    "    \n",
    "    # Initialize the DataIngestion process with the retrieved configuration\n",
    "    logger.info(\"Initializing DataIngestion\")\n",
    "    data_ingestion = DataIngestion(config=data_ingestion_config)\n",
    "    \n",
    "    # Download the file if it doesn't already exist locally\n",
    "    logger.info(\"Downloading file\")\n",
    "    data_ingestion.download_file()\n",
    "    \n",
    "    # Extract the downloaded zip file to the specified directory\n",
    "    logger.info(\"Extracting zip file\")\n",
    "    data_ingestion.extract_zip_file()\n",
    "\n",
    "except FileNotFoundError as fnf_error:\n",
    "    logger.error(f\"File not found: {fnf_error}\")\n",
    "    raise\n",
    "except ValueError as val_error:\n",
    "    logger.error(f\"Value error: {val_error}\")\n",
    "    raise\n",
    "except AttributeError as attr_error:\n",
    "    logger.error(f\"Attribute error: {attr_error}\")\n",
    "    raise\n",
    "except Exception as e:\n",
    "    logger.error(f\"Error in the pipeline execution: {str(e)}\")\n",
    "    raise Exception(f\"Error in the pipeline execution: {str(e)}\") from e\n"
   ]
  }
 ],
 "metadata": {
  "kernelspec": {
   "display_name": "Python 3",
   "language": "python",
   "name": "python3"
  },
  "language_info": {
   "codemirror_mode": {
    "name": "ipython",
    "version": 3
   },
   "file_extension": ".py",
   "mimetype": "text/x-python",
   "name": "python",
   "nbconvert_exporter": "python",
   "pygments_lexer": "ipython3",
   "version": "3.12.4"
  }
 },
 "nbformat": 4,
 "nbformat_minor": 2
}
