{
 "cells": [
  {
   "cell_type": "code",
   "execution_count": 1,
   "metadata": {},
   "outputs": [],
   "source": [
    "import os"
   ]
  },
  {
   "cell_type": "code",
   "execution_count": 2,
   "metadata": {},
   "outputs": [
    {
     "data": {
      "text/plain": [
       "'c:\\\\Users\\\\Sasu4\\\\SHIP_Classification_using_Resnet\\\\research'"
      ]
     },
     "execution_count": 2,
     "metadata": {},
     "output_type": "execute_result"
    }
   ],
   "source": [
    "%pwd"
   ]
  },
  {
   "cell_type": "code",
   "execution_count": 5,
   "metadata": {},
   "outputs": [],
   "source": [
    "os.chdir(\"../\")"
   ]
  },
  {
   "cell_type": "code",
   "execution_count": 29,
   "metadata": {},
   "outputs": [
    {
     "data": {
      "text/plain": [
       "'c:\\\\Users\\\\Sasu4\\\\SHIP_Classification_using_Resnet'"
      ]
     },
     "execution_count": 29,
     "metadata": {},
     "output_type": "execute_result"
    }
   ],
   "source": [
    "%pwd"
   ]
  },
  {
   "cell_type": "code",
   "execution_count": 7,
   "metadata": {},
   "outputs": [],
   "source": [
    "from dataclasses import dataclass\n",
    "from pathlib import Path\n",
    "\n",
    "@dataclass(frozen=True)\n",
    "class DataIngestionConfig:\n",
    "    root_dir :Path\n",
    "    source_url:str\n",
    "    local_data_file:Path\n",
    "    unzip_dir :Path"
   ]
  },
  {
   "cell_type": "code",
   "execution_count": 44,
   "metadata": {},
   "outputs": [],
   "source": [
    "from Ship_Classifier.constants import *\n",
    "from Ship_Classifier.utils.common  import read_yaml,create_directories"
   ]
  },
  {
   "cell_type": "code",
   "execution_count": 46,
   "metadata": {},
   "outputs": [],
   "source": [
    "class ConfigurationManager:\n",
    "    def __init__(self, config_filepath=CONFIG_FILE_PATH, params_filepath=PARAMS_FILE_PATH):\n",
    "        # Load configurations and parameters from YAML files\n",
    "        self.config = read_yaml(config_filepath)\n",
    "        self.params = read_yaml(params_filepath)\n",
    "         # Print the paths to check if they are correct\n",
    "        print(f\"CONFIG_FILE_PATH: {config_filepath}\")\n",
    "        print(f\"PARAMS_FILE_PATH: {params_filepath}\")\n",
    "\n",
    "        # Check if the config file exists\n",
    "        if not os.path.exists(config_filepath):\n",
    "            raise FileNotFoundError(f\"Config file not found at: {config_filepath}\")\n",
    "        if not os.path.exists(params_filepath):\n",
    "            raise FileNotFoundError(f\"Params file not found at: {params_filepath}\")\n",
    "        \n",
    "         # Load the YAML files\n",
    "        self.config = read_yaml(config_filepath)\n",
    "        self.params = read_yaml(params_filepath)\n",
    "\n",
    "        # Create the root directory for artifacts if it doesn't exist\n",
    "        create_directories([self.config.artifacts_root])\n",
    "\n",
    "    def get_data_ingestion_config(self) -> DataIngestionConfig:\n",
    "        # Extract the data ingestion configuration from the loaded config\n",
    "        data_ingestion_config = self.config.data_ingestion\n",
    "\n",
    "        # Create the root directory for data ingestion if it doesn't exist\n",
    "        create_directories([data_ingestion_config.root_dir])\n",
    "\n",
    "        # Initialize and return a DataIngestionConfig object with the necessary paths and URLs\n",
    "        return DataIngestionConfig(\n",
    "            root_dir=data_ingestion_config.root_dir,\n",
    "            source_URL=data_ingestion_config.source_URL,\n",
    "            local_data_file=data_ingestion_config.local_data_file,\n",
    "            unzip_dir=data_ingestion_config.unzip_dir  # Renamed to match \"extract_dir\"\n",
    "        )"
   ]
  },
  {
   "cell_type": "code",
   "execution_count": 39,
   "metadata": {},
   "outputs": [],
   "source": [
    "import os\n",
    "import urllib.request as request\n",
    "import zipfile\n",
    "from Ship_Classifier import logger\n",
    "from Ship_Classifier.utils.common import get_size"
   ]
  },
  {
   "cell_type": "code",
   "execution_count": 35,
   "metadata": {},
   "outputs": [],
   "source": [
    "class DataIngestion:\n",
    "    def __init__(self, config: DataIngestionConfig):\n",
    "        self.config = config\n",
    "\n",
    "\n",
    "    \n",
    "    def download_file(self):\n",
    "        if not os.path.exists(self.config.local_data_file):\n",
    "            \n",
    "            try:\n",
    "                response = request.get(self.config.source_URL)\n",
    "                response.raise_for_status()  # Raise an HTTPError for bad responses\n",
    "                with open(self.config.local_data_file, 'wb') as f:\n",
    "                    f.write(response.content)\n",
    "                logger.info(f\"{self.config.local_data_file} downloaded successfully!\")\n",
    "            except request.exceptions.RequestException as e:\n",
    "                logger.error(f\"Failed to download the file. Error: {str(e)}\")\n",
    "                raise e\n",
    "        else:\n",
    "            file_size = self.get_size(Path(self.config.local_data_file))\n",
    "            logger.info(f\"File already exists with size: {file_size}\") \n",
    "\n",
    "\n",
    "    \n",
    "    def extract_zip_file(self):\n",
    "        # Ensure the file exists before attempting to extract\n",
    "        if os.path.exists(self.config.local_data_file):\n",
    "            with zipfile.ZipFile(self.config.local_data_file, 'r') as zip_ref:\n",
    "                zip_ref.extractall(self.config.extract_dir)\n",
    "                logger.info(f\"Extraction completed successfully into {self.config.extract_dir}\")\n",
    "            \n",
    "            # Verifying the folders\n",
    "            expected_folders = ['Cargo', 'Carrier', 'Cruise', 'Tanker', 'Military']\n",
    "            for folder in expected_folders:\n",
    "                folder_path = Path(self.config.extract_dir) / folder\n",
    "                if folder_path.exists() and folder_path.is_dir():\n",
    "                    logger.info(f\"Folder '{folder}' exists.\")\n",
    "                else:\n",
    "                    logger.warning(f\"Folder '{folder}' is missing!\")\n",
    "\n",
    "        else:\n",
    "            logger.error(\"Zip file does not exist. Please check the download step.\")"
   ]
  },
  {
   "cell_type": "code",
   "execution_count": 47,
   "metadata": {},
   "outputs": [
    {
     "name": "stdout",
     "output_type": "stream",
     "text": [
      "[2024-08-20 08:43:21,368: INFO: common: yaml file: config\\config.yaml loaded successfully]\n",
      "[2024-08-20 08:43:21,370: INFO: common: yaml file: params.yaml loaded successfully]\n"
     ]
    },
    {
     "ename": "Exception",
     "evalue": "Error in the pipeline execution: yaml file is empty",
     "output_type": "error",
     "traceback": [
      "\u001b[1;31m---------------------------------------------------------------------------\u001b[0m",
      "\u001b[1;31mBoxValueError\u001b[0m                             Traceback (most recent call last)",
      "File \u001b[1;32mc:\\users\\sasu4\\ship_classification_using_resnet\\src\\Ship_Classifier\\utils\\common.py:36\u001b[0m, in \u001b[0;36mread_yaml\u001b[1;34m(path_to_yaml)\u001b[0m\n\u001b[0;32m     35\u001b[0m         logger\u001b[38;5;241m.\u001b[39minfo(\u001b[38;5;124mf\u001b[39m\u001b[38;5;124m\"\u001b[39m\u001b[38;5;124myaml file: \u001b[39m\u001b[38;5;132;01m{\u001b[39;00mpath_to_yaml\u001b[38;5;132;01m}\u001b[39;00m\u001b[38;5;124m loaded successfully\u001b[39m\u001b[38;5;124m\"\u001b[39m)\n\u001b[1;32m---> 36\u001b[0m         \u001b[38;5;28;01mreturn\u001b[39;00m \u001b[43mConfigBox\u001b[49m\u001b[43m(\u001b[49m\u001b[43mcontent\u001b[49m\u001b[43m)\u001b[49m\n\u001b[0;32m     37\u001b[0m \u001b[38;5;28;01mexcept\u001b[39;00m BoxValueError:\n",
      "File \u001b[1;32mc:\\Users\\Sasu4\\miniconda3\\envs\\SHIP\\Lib\\site-packages\\box\\box.py:247\u001b[0m, in \u001b[0;36mBox.__init__\u001b[1;34m(self, default_box, default_box_attr, default_box_none_transform, default_box_create_on_get, frozen_box, camel_killer_box, conversion_box, modify_tuples_box, box_safe_prefix, box_duplicates, box_intact_types, box_recast, box_dots, box_class, *args, **kwargs)\u001b[0m\n\u001b[0;32m    246\u001b[0m \u001b[38;5;28;01mif\u001b[39;00m \u001b[38;5;28misinstance\u001b[39m(args[\u001b[38;5;241m0\u001b[39m], \u001b[38;5;28mstr\u001b[39m):\n\u001b[1;32m--> 247\u001b[0m     \u001b[38;5;28;01mraise\u001b[39;00m BoxValueError(\u001b[38;5;124m\"\u001b[39m\u001b[38;5;124mCannot extrapolate Box from string\u001b[39m\u001b[38;5;124m\"\u001b[39m)\n\u001b[0;32m    248\u001b[0m \u001b[38;5;28;01mif\u001b[39;00m \u001b[38;5;28misinstance\u001b[39m(args[\u001b[38;5;241m0\u001b[39m], Mapping):\n",
      "\u001b[1;31mBoxValueError\u001b[0m: Cannot extrapolate Box from string",
      "\nDuring handling of the above exception, another exception occurred:\n",
      "\u001b[1;31mValueError\u001b[0m                                Traceback (most recent call last)",
      "Cell \u001b[1;32mIn[47], line 4\u001b[0m\n\u001b[0;32m      2\u001b[0m \u001b[38;5;28;01mtry\u001b[39;00m:\n\u001b[0;32m      3\u001b[0m     \u001b[38;5;66;03m# Initialize the configuration manager\u001b[39;00m\n\u001b[1;32m----> 4\u001b[0m     config \u001b[38;5;241m=\u001b[39m \u001b[43mConfigurationManager\u001b[49m\u001b[43m(\u001b[49m\u001b[43m)\u001b[49m\n\u001b[0;32m      6\u001b[0m     \u001b[38;5;66;03m# Retrieve the data ingestion configuration\u001b[39;00m\n",
      "Cell \u001b[1;32mIn[46], line 5\u001b[0m, in \u001b[0;36mConfigurationManager.__init__\u001b[1;34m(self, config_filepath, params_filepath)\u001b[0m\n\u001b[0;32m      4\u001b[0m \u001b[38;5;28mself\u001b[39m\u001b[38;5;241m.\u001b[39mconfig \u001b[38;5;241m=\u001b[39m read_yaml(config_filepath)\n\u001b[1;32m----> 5\u001b[0m \u001b[38;5;28mself\u001b[39m\u001b[38;5;241m.\u001b[39mparams \u001b[38;5;241m=\u001b[39m \u001b[43mread_yaml\u001b[49m\u001b[43m(\u001b[49m\u001b[43mparams_filepath\u001b[49m\u001b[43m)\u001b[49m\n\u001b[0;32m      6\u001b[0m  \u001b[38;5;66;03m# Print the paths to check if they are correct\u001b[39;00m\n",
      "File \u001b[1;32mc:\\Users\\Sasu4\\miniconda3\\envs\\SHIP\\Lib\\site-packages\\ensure\\main.py:849\u001b[0m, in \u001b[0;36mWrappedFunctionReturn.__call__\u001b[1;34m(self, *args, **kwargs)\u001b[0m\n\u001b[0;32m    845\u001b[0m         \u001b[38;5;28;01mraise\u001b[39;00m EnsureError(msg\u001b[38;5;241m.\u001b[39mformat(\n\u001b[0;32m    846\u001b[0m             arg\u001b[38;5;241m=\u001b[39marg, f\u001b[38;5;241m=\u001b[39m\u001b[38;5;28mself\u001b[39m\u001b[38;5;241m.\u001b[39mf, t\u001b[38;5;241m=\u001b[39mtempl, valt\u001b[38;5;241m=\u001b[39m\u001b[38;5;28mtype\u001b[39m(value)\n\u001b[0;32m    847\u001b[0m         ))\n\u001b[1;32m--> 849\u001b[0m return_val \u001b[38;5;241m=\u001b[39m \u001b[38;5;28;43mself\u001b[39;49m\u001b[38;5;241;43m.\u001b[39;49m\u001b[43mf\u001b[49m\u001b[43m(\u001b[49m\u001b[38;5;241;43m*\u001b[39;49m\u001b[43margs\u001b[49m\u001b[43m,\u001b[49m\u001b[43m \u001b[49m\u001b[38;5;241;43m*\u001b[39;49m\u001b[38;5;241;43m*\u001b[39;49m\u001b[43mkwargs\u001b[49m\u001b[43m)\u001b[49m\n\u001b[0;32m    850\u001b[0m \u001b[38;5;28;01mif\u001b[39;00m \u001b[38;5;129;01mnot\u001b[39;00m \u001b[38;5;28misinstance\u001b[39m(return_val, \u001b[38;5;28mself\u001b[39m\u001b[38;5;241m.\u001b[39mreturn_templ):\n",
      "File \u001b[1;32mc:\\users\\sasu4\\ship_classification_using_resnet\\src\\Ship_Classifier\\utils\\common.py:38\u001b[0m, in \u001b[0;36mread_yaml\u001b[1;34m(path_to_yaml)\u001b[0m\n\u001b[0;32m     37\u001b[0m \u001b[38;5;28;01mexcept\u001b[39;00m BoxValueError:\n\u001b[1;32m---> 38\u001b[0m     \u001b[38;5;28;01mraise\u001b[39;00m \u001b[38;5;167;01mValueError\u001b[39;00m(\u001b[38;5;124m\"\u001b[39m\u001b[38;5;124myaml file is empty\u001b[39m\u001b[38;5;124m\"\u001b[39m)\n\u001b[0;32m     39\u001b[0m \u001b[38;5;28;01mexcept\u001b[39;00m \u001b[38;5;167;01mException\u001b[39;00m \u001b[38;5;28;01mas\u001b[39;00m e:\n",
      "\u001b[1;31mValueError\u001b[0m: yaml file is empty",
      "\nThe above exception was the direct cause of the following exception:\n",
      "\u001b[1;31mException\u001b[0m                                 Traceback (most recent call last)",
      "Cell \u001b[1;32mIn[47], line 20\u001b[0m\n\u001b[0;32m     16\u001b[0m     data_ingestion\u001b[38;5;241m.\u001b[39mextract_zip_file()\n\u001b[0;32m     18\u001b[0m \u001b[38;5;28;01mexcept\u001b[39;00m \u001b[38;5;167;01mException\u001b[39;00m \u001b[38;5;28;01mas\u001b[39;00m e:\n\u001b[0;32m     19\u001b[0m     \u001b[38;5;66;03m# Catch and raise any exceptions with additional context\u001b[39;00m\n\u001b[1;32m---> 20\u001b[0m     \u001b[38;5;28;01mraise\u001b[39;00m \u001b[38;5;167;01mException\u001b[39;00m(\u001b[38;5;124mf\u001b[39m\u001b[38;5;124m\"\u001b[39m\u001b[38;5;124mError in the pipeline execution: \u001b[39m\u001b[38;5;132;01m{\u001b[39;00m\u001b[38;5;28mstr\u001b[39m(e)\u001b[38;5;132;01m}\u001b[39;00m\u001b[38;5;124m\"\u001b[39m) \u001b[38;5;28;01mfrom\u001b[39;00m \u001b[38;5;21;01me\u001b[39;00m\n",
      "\u001b[1;31mException\u001b[0m: Error in the pipeline execution: yaml file is empty"
     ]
    }
   ],
   "source": [
    "# Pipeline\n",
    "try:\n",
    "    # Initialize the configuration manager\n",
    "    config = ConfigurationManager()\n",
    "    \n",
    "    # Retrieve the data ingestion configuration\n",
    "    data_ingestion_config = config.get_data_ingestion_config()\n",
    "    \n",
    "    # Initialize the DataIngestion process with the retrieved configuration\n",
    "    data_ingestion = DataIngestion(config=data_ingestion_config)\n",
    "    \n",
    "    # Download the file if it doesn't already exist locally\n",
    "    data_ingestion.download_file()\n",
    "    \n",
    "    # Extract the downloaded zip file to the specified directory\n",
    "    data_ingestion.extract_zip_file()\n",
    "\n",
    "except Exception as e:\n",
    "    # Catch and raise any exceptions with additional context\n",
    "    raise Exception(f\"Error in the pipeline execution: {str(e)}\") from e\n"
   ]
  }
 ],
 "metadata": {
  "kernelspec": {
   "display_name": "Python 3",
   "language": "python",
   "name": "python3"
  },
  "language_info": {
   "codemirror_mode": {
    "name": "ipython",
    "version": 3
   },
   "file_extension": ".py",
   "mimetype": "text/x-python",
   "name": "python",
   "nbconvert_exporter": "python",
   "pygments_lexer": "ipython3",
   "version": "3.12.4"
  }
 },
 "nbformat": 4,
 "nbformat_minor": 2
}
